{
 "cells": [
  {
   "cell_type": "code",
   "execution_count": null,
   "id": "b8ad9aaa-d78b-4e9e-855b-1def93c81594",
   "metadata": {},
   "outputs": [],
   "source": [
    "#PostgresSQL\n",
    "#Estabelecendo conexão com o postgres DW para o Pandas Dataframe\n"
   ]
  },
  {
   "cell_type": "code",
   "execution_count": 1,
   "id": "45e74755-af1a-49b3-af46-6a03ba4bf889",
   "metadata": {},
   "outputs": [
    {
     "name": "stdout",
     "output_type": "stream",
     "text": [
      "Collecting psycopg2\n",
      "  Downloading psycopg2-2.9.10-cp312-cp312-win_amd64.whl.metadata (5.0 kB)\n",
      "Downloading psycopg2-2.9.10-cp312-cp312-win_amd64.whl (1.2 MB)\n",
      "   ---------------------------------------- 0.0/1.2 MB ? eta -:--:--\n",
      "   --------- ------------------------------ 0.3/1.2 MB ? eta -:--:--\n",
      "   --------------------------- ------------ 0.8/1.2 MB 2.8 MB/s eta 0:00:01\n",
      "   ---------------------------------------- 1.2/1.2 MB 2.6 MB/s eta 0:00:00\n",
      "Installing collected packages: psycopg2\n",
      "Successfully installed psycopg2-2.9.10\n"
     ]
    }
   ],
   "source": [
    "!pip install psycopg2"
   ]
  },
  {
   "cell_type": "code",
   "execution_count": 3,
   "id": "d8250d87-a4fb-4cd0-93c2-0279792d0af0",
   "metadata": {},
   "outputs": [],
   "source": [
    "import pandas as pd\n",
    "import psycopg2"
   ]
  },
  {
   "cell_type": "code",
   "execution_count": 19,
   "id": "5419c6b7-a217-4e0c-bd81-243d9aa3b9ea",
   "metadata": {},
   "outputs": [
    {
     "name": "stderr",
     "output_type": "stream",
     "text": [
      "C:\\Users\\Igor\\AppData\\Local\\Temp\\ipykernel_756\\1888639255.py:18: UserWarning: pandas only supports SQLAlchemy connectable (engine/connection) or database string URI or sqlite3 DBAPI2 connection. Other DBAPI2 objects are not tested. Please consider using SQLAlchemy.\n",
      "  tb_cliente_postgres = pd.read_sql_query(''' SELECT * FROM dw.dim_cliente''', conn)\n"
     ]
    }
   ],
   "source": [
    "PGHOST = 'localhost'\n",
    "PGDATABASE = 'postgres'\n",
    "PGUSER = 'postgres'\n",
    "PGPASSWORD = '123'\n",
    "port = '5432'\n",
    "\n",
    "# Configuração para conexão com o SGBD Postgresql\n",
    "\n",
    "conn_string = \"host=\"+ PGHOST \\\n",
    "            +\" port=\"+ port \\\n",
    "            +\" dbname=\"+ PGDATABASE \\\n",
    "            +\" user=\"+ PGUSER \\\n",
    "            +\" password=\"+ PGPASSWORD\n",
    "\n",
    "conn = psycopg2.connect(conn_string)\n",
    "\n",
    "# Selecionar os dados que estão retornando da tabela do banco..\n",
    "tb_cliente_postgres = pd.read_sql_query(''' SELECT * FROM dw.dim_cliente''', conn)\n",
    "\n",
    "# Fecha a Conexão com o Banco..\n",
    "conn.close()"
   ]
  },
  {
   "cell_type": "code",
   "execution_count": 29,
   "id": "ba1f271b-3c65-4c6f-846a-b449eb0cf857",
   "metadata": {},
   "outputs": [
    {
     "data": {
      "text/html": [
       "<div>\n",
       "<style scoped>\n",
       "    .dataframe tbody tr th:only-of-type {\n",
       "        vertical-align: middle;\n",
       "    }\n",
       "\n",
       "    .dataframe tbody tr th {\n",
       "        vertical-align: top;\n",
       "    }\n",
       "\n",
       "    .dataframe thead th {\n",
       "        text-align: right;\n",
       "    }\n",
       "</style>\n",
       "<table border=\"1\" class=\"dataframe\">\n",
       "  <thead>\n",
       "    <tr style=\"text-align: right;\">\n",
       "      <th></th>\n",
       "      <th>id_cliente</th>\n",
       "      <th>nome_cliente</th>\n",
       "      <th>sexo</th>\n",
       "      <th>idade</th>\n",
       "      <th>cidade</th>\n",
       "      <th>estado</th>\n",
       "    </tr>\n",
       "  </thead>\n",
       "  <tbody>\n",
       "    <tr>\n",
       "      <th>0</th>\n",
       "      <td>1</td>\n",
       "      <td>Cliente 1</td>\n",
       "      <td>M</td>\n",
       "      <td>19</td>\n",
       "      <td>Cidade 1</td>\n",
       "      <td>ES</td>\n",
       "    </tr>\n",
       "    <tr>\n",
       "      <th>1</th>\n",
       "      <td>2</td>\n",
       "      <td>Cliente 2</td>\n",
       "      <td>F</td>\n",
       "      <td>20</td>\n",
       "      <td>Cidade 2</td>\n",
       "      <td>ES</td>\n",
       "    </tr>\n",
       "    <tr>\n",
       "      <th>2</th>\n",
       "      <td>3</td>\n",
       "      <td>Cliente 3</td>\n",
       "      <td>M</td>\n",
       "      <td>21</td>\n",
       "      <td>Cidade 3</td>\n",
       "      <td>ES</td>\n",
       "    </tr>\n",
       "    <tr>\n",
       "      <th>3</th>\n",
       "      <td>4</td>\n",
       "      <td>Cliente 4</td>\n",
       "      <td>F</td>\n",
       "      <td>22</td>\n",
       "      <td>Cidade 4</td>\n",
       "      <td>ES</td>\n",
       "    </tr>\n",
       "    <tr>\n",
       "      <th>4</th>\n",
       "      <td>5</td>\n",
       "      <td>Cliente 5</td>\n",
       "      <td>M</td>\n",
       "      <td>23</td>\n",
       "      <td>Cidade 5</td>\n",
       "      <td>ES</td>\n",
       "    </tr>\n",
       "  </tbody>\n",
       "</table>\n",
       "</div>"
      ],
      "text/plain": [
       "   id_cliente nome_cliente sexo  idade    cidade estado\n",
       "0           1    Cliente 1    M     19  Cidade 1     ES\n",
       "1           2    Cliente 2    F     20  Cidade 2     ES\n",
       "2           3    Cliente 3    M     21  Cidade 3     ES\n",
       "3           4    Cliente 4    F     22  Cidade 4     ES\n",
       "4           5    Cliente 5    M     23  Cidade 5     ES"
      ]
     },
     "execution_count": 29,
     "metadata": {},
     "output_type": "execute_result"
    }
   ],
   "source": [
    "tb_cliente_postgres.head()"
   ]
  },
  {
   "cell_type": "code",
   "execution_count": null,
   "id": "16094da9-446c-4309-92fd-e4411d40b64a",
   "metadata": {},
   "outputs": [],
   "source": []
  }
 ],
 "metadata": {
  "kernelspec": {
   "display_name": "Python [conda env:base] *",
   "language": "python",
   "name": "conda-base-py"
  },
  "language_info": {
   "codemirror_mode": {
    "name": "ipython",
    "version": 3
   },
   "file_extension": ".py",
   "mimetype": "text/x-python",
   "name": "python",
   "nbconvert_exporter": "python",
   "pygments_lexer": "ipython3",
   "version": "3.12.7"
  }
 },
 "nbformat": 4,
 "nbformat_minor": 5
}
