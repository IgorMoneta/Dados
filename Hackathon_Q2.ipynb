{
  "nbformat": 4,
  "nbformat_minor": 0,
  "metadata": {
    "colab": {
      "provenance": [],
      "authorship_tag": "ABX9TyNK3QpVquBrFnN5/i8xVKJ3",
      "include_colab_link": true
    },
    "kernelspec": {
      "name": "python3",
      "display_name": "Python 3"
    },
    "language_info": {
      "name": "python"
    }
  },
  "cells": [
    {
      "cell_type": "markdown",
      "metadata": {
        "id": "view-in-github",
        "colab_type": "text"
      },
      "source": [
        "<a href=\"https://colab.research.google.com/github/IgorMoneta/Dados/blob/main/Hackathon_Q2.ipynb\" target=\"_parent\"><img src=\"https://colab.research.google.com/assets/colab-badge.svg\" alt=\"Open In Colab\"/></a>"
      ]
    },
    {
      "cell_type": "code",
      "execution_count": 8,
      "metadata": {
        "id": "Z4QnirdZPhBh"
      },
      "outputs": [],
      "source": [
        "import numpy as np #gerar matrizes e vetores para grandes volumes\n",
        "import pandas as pd #é uma planilha\n",
        "from sklearn.datasets import make_classification # dataset para auxiliar nac criação dos dados do cartão de crédito\n",
        "\n",
        "from sklearn.model_selection import train_test_split # separa a base de dados em 70% treino e 30% teste\n",
        "from sklearn.preprocessing import StandardScaler #preporcessamento dados normalização\n",
        "from sklearn.ensemble import RandomForestClassifier\n",
        "from sklearn.metrics import classification_report"
      ]
    },
    {
      "cell_type": "code",
      "source": [
        "total_samples = 10000\n",
        "fraud_ratio = 0.05\n",
        "fraud_samples = int(total_samples * fraud_ratio)\n",
        "normal_samples = total_samples - fraud_samples"
      ],
      "metadata": {
        "id": "mRphrDmhQowI"
      },
      "execution_count": 9,
      "outputs": []
    },
    {
      "cell_type": "code",
      "source": [
        "x,y = make_classification(n_samples=total_samples, n_features=5, weights=[0.95, 0.05], random_state=42)"
      ],
      "metadata": {
        "id": "NKJ2DtPIRHAb"
      },
      "execution_count": 10,
      "outputs": []
    },
    {
      "cell_type": "code",
      "source": [
        "df = pd.DataFrame(x, columns=['valor_transacao', 'latitude', 'longitude', 'historico_usuario', 'horario_compra'])\n",
        "df['Fraude'] = y"
      ],
      "metadata": {
        "id": "kzl592-lR0ob"
      },
      "execution_count": 21,
      "outputs": []
    },
    {
      "cell_type": "code",
      "source": [
        "def ajustar_valores(df):\n",
        "  df['valor_transacao'] = np.abs(df['valor_transacao']) *1000\n",
        "  df['latitude'] = np.round(np.random.uniform(-90,90,total_samples), 6)\n",
        "  df['longitude'] = np.round(np.random.uniform(-180,180,total_samples), 6)\n",
        "  df['historico_usuario'] = np.random.randint(1,50,total_samples)\n",
        "  df['horario_compra'] = np.random.randint(0,24,total_samples)\n",
        "  return df"
      ],
      "metadata": {
        "id": "8ZrpJL5PSO0F"
      },
      "execution_count": 22,
      "outputs": []
    },
    {
      "cell_type": "code",
      "source": [
        "df = ajustar_valores(df)"
      ],
      "metadata": {
        "id": "rvlrsVNnVAY_"
      },
      "execution_count": 23,
      "outputs": []
    },
    {
      "cell_type": "code",
      "source": [
        "df.to_csv('fraude')"
      ],
      "metadata": {
        "id": "Ig6P4TLoVC8O"
      },
      "execution_count": 25,
      "outputs": []
    },
    {
      "cell_type": "code",
      "source": [
        "import joblib"
      ],
      "metadata": {
        "id": "MlMva9r7XMPA"
      },
      "execution_count": 27,
      "outputs": []
    },
    {
      "cell_type": "code",
      "source": [
        "# prompt: gere o codigo para salvar no modelo pkl\n",
        "\n",
        "import joblib\n",
        "# ... (your existing code)\n",
        "\n",
        "# Assuming 'df' is your DataFrame and you've already performed necessary preprocessing\n",
        "# Split data into features (X) and target (y)\n",
        "X = df.drop('Fraude', axis=1)\n",
        "y = df['Fraude']\n",
        "\n",
        "# Split data into training and testing sets\n",
        "X_train, X_test, y_train, y_test = train_test_split(X, y, test_size=0.3, random_state=42)\n",
        "\n",
        "# Initialize and train the RandomForestClassifier\n",
        "model = RandomForestClassifier(random_state=42)\n",
        "model.fit(X_train, y_train)\n",
        "\n",
        "# Save the trained model to a .pkl file\n",
        "joblib.dump(model, 'fraud_detection_model.pkl')\n"
      ],
      "metadata": {
        "colab": {
          "base_uri": "https://localhost:8080/"
        },
        "id": "aP7dwqvgXOTv",
        "outputId": "a61fbd7a-f414-4559-d14f-72efacb88249"
      },
      "execution_count": 28,
      "outputs": [
        {
          "output_type": "execute_result",
          "data": {
            "text/plain": [
              "['fraud_detection_model.pkl']"
            ]
          },
          "metadata": {},
          "execution_count": 28
        }
      ]
    }
  ]
}